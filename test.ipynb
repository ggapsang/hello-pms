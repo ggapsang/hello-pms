{
 "cells": [
  {
   "cell_type": "code",
   "execution_count": 1,
   "metadata": {},
   "outputs": [
    {
     "name": "stdout",
     "output_type": "stream",
     "text": [
      "✅ API Key is valid.\n",
      "Response: {'id': 'chatcmpl-Ar4LRwcR9Bwm0cCpwkkhYQQcowL2w', 'object': 'chat.completion', 'created': 1737211449, 'model': 'gpt-4-turbo-2024-04-09', 'choices': [{'index': 0, 'message': {'role': 'assistant', 'content': 'Looks like the connection is working fine. How can I assist you today?', 'refusal': None}, 'logprobs': None, 'finish_reason': 'stop'}], 'usage': {'prompt_tokens': 9, 'completion_tokens': 16, 'total_tokens': 25, 'prompt_tokens_details': {'cached_tokens': 0, 'audio_tokens': 0}, 'completion_tokens_details': {'reasoning_tokens': 0, 'audio_tokens': 0, 'accepted_prediction_tokens': 0, 'rejected_prediction_tokens': 0}}, 'service_tier': 'default', 'system_fingerprint': 'fp_c936bae6c5'}\n"
     ]
    }
   ],
   "source": [
    "import requests\n",
    "\n",
    "def check_api_key(api_key):\n",
    "    url = \"https://api.openai.com/v1/chat/completions\"\n",
    "    headers = {\n",
    "        \"Content-Type\": \"application/json\",\n",
    "        \"Authorization\": f\"Bearer {api_key}\"\n",
    "    }\n",
    "    data = {\n",
    "        \"model\": \"gpt-4-turbo\",\n",
    "        \"messages\": [{\"role\": \"system\", \"content\": \"Test connection\"}]\n",
    "    }\n",
    "\n",
    "    try:\n",
    "        response = requests.post(url, headers=headers, json=data)\n",
    "\n",
    "        if response.status_code == 200:\n",
    "            print(\"✅ API Key is valid.\")\n",
    "            print(\"Response:\", response.json())\n",
    "        elif response.status_code == 401:\n",
    "            print(\"❌ Invalid API Key or unauthorized access.\")\n",
    "        else:\n",
    "            print(f\"❌ Error: {response.status_code} - {response.text}\")\n",
    "    except Exception as e:\n",
    "        print(f\"❌ An error occurred: {e}\")\n",
    "\n",
    "# API 키 입력\n",
    "api_key = \"api_key\"\n",
    "check_api_key(api_key)\n"
   ]
  },
  {
   "cell_type": "code",
   "execution_count": 2,
   "metadata": {},
   "outputs": [
    {
     "name": "stdout",
     "output_type": "stream",
     "text": [
      "✅ JSON is valid.\n"
     ]
    }
   ],
   "source": [
    "import json\n",
    "\n",
    "# JSON 문자열\n",
    "json_data = '''\n",
    "{\n",
    "    \"model\": \"gpt-4-turbo\",\n",
    "    \"messages\": [\n",
    "        {\"role\": \"system\", \"content\": \"당신은 2차전지 분야, 특히, anode 재료 분야의 기술 전문가야. 내가 주는 정보를 바탕으로 해당 정보의 음극재가 silicon(실리콘, 규소) 금속 만으로 이루어진 plate, particle, nano partilce 등에 관한 것이면 분류 'a : Si 금속'으로 분류하고, 해당 정보의 음극재가 silicon의 산화물(oxide)이면 분류 'b : SiO2'로 분류하고, 해당 정보의 음극재가 SiO2 중의 일부 Si 원소가 다른 원소로 치환된 것이면 분류 'c : Si 복합산화물'로 분류하고, 해당 정보의 음극재가 Silicon Carbide이면 분류 'd : SiC'로 분류하고, 해당 정보의 음극재가 실리콘과 다른 금속 또는 비금속 원소가 결합되거나, 도핑된 실리콘 합금(다만, SiC는 별도 분류해줘)이면 분류 'e : Si alloy'로 분류하고, 해당 정보의 음극재가 실리콘(Si)과 산화규소(SiO2)의 복합재료로서, 예를 들어, 실리콘 입자가 산화규소 매트릭스 내에 분포하는 구조 또는 Si와 SiO2가 혼합된 것 등일 때는 분류 'f : Si-SiO2 composite'로 분류하고, 해당 정보의 음극재가 실리콘과 탄소로 이루어진 복합재료로서,  예를 들어, 실리콘 나노입자가 탄소 매트릭스 내에 분산되어 있는 구조 또는 Si와 탄소가 혼합된 것 등일 때는 분류 'g : Si-carbon composite'로 분류하고, 해당 정보의 음극재가 Si를 이용하지만, 위의 어떤 분류 기준에 포함시킬 지 결정할 수 없는 경우에는 분류 'h : 구분되지 않는 Si 음극재'로 분류해 줘. 주어진 정보를 바탕으로 최대한 코드 분류를 하고, 구체적인 조성이 명시되어 있지 않아도, 당신의 2차전지 anode 전문지식과 배경지식을 최대한 동원하여 답변하되 그래도 앞의 어느 분류에 속하는지 판단하기 곤란한 경우에는 분류 'i : Si 음극재와 관련없음' 으로 판단해 줘. 그리고, 당신의 판단 결과를 분류코드와 그 이름을 먼저 쓰고 ';'을 넣은 뒤 그 뒤에 근거를 서술하는 형식으로 해줘.\"},\n",
    "        {\"role\": \"user\", \"content\": \"발명의 명칭 : 리튬 이차 전지용 음극 활물질, 이를 포함하는 음극 및 리튬 이차 전지.요약 : 리튬 이차 전지용 음극 활물질, 이를 포함하는 음극 및 리튬 이차 전지.요약 2 : The anodal active material for the lithium secondary battery according to the illustrative working example of the present invention includes the silicon particle. And one or more doping element can be included among the silicon particle whole content among manganese and nickel with 0.05 through 1 at%. Moreover, provided is the cathode and the lithium secondary battery including the anodal active material..대표청구항 : 리튬 이차 전지용 음극 활물질, 이를 포함하는 음극 및 리튬 이차 전지.대표청구항-기타 원어 : The anodal active material for the lithium secondary battery which includes the silicon particle and includes one or more doping element among the silicon particle whole content among manganese and nickel with 0.05 through 1 at%.\"}\n",
    "    ]\n",
    "}\n",
    "'''\n",
    "\n",
    "try:\n",
    "    parsed_json = json.loads(json_data)\n",
    "    print(\"✅ JSON is valid.\")\n",
    "except json.JSONDecodeError as e:\n",
    "    print(f\"❌ JSON is invalid: {e}\")\n"
   ]
  },
  {
   "cell_type": "code",
   "execution_count": null,
   "metadata": {},
   "outputs": [],
   "source": []
  }
 ],
 "metadata": {
  "kernelspec": {
   "display_name": "text2SQL",
   "language": "python",
   "name": "python3"
  },
  "language_info": {
   "codemirror_mode": {
    "name": "ipython",
    "version": 3
   },
   "file_extension": ".py",
   "mimetype": "text/x-python",
   "name": "python",
   "nbconvert_exporter": "python",
   "pygments_lexer": "ipython3",
   "version": "3.12.7"
  }
 },
 "nbformat": 4,
 "nbformat_minor": 2
}
