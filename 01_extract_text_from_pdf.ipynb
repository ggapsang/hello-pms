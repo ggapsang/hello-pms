{
 "cells": [
  {
   "cell_type": "markdown",
   "metadata": {},
   "source": [
    "1. ocr 작업(필요시)을 통한 텍스트 인식<br>\n",
    "2. 텍스트 및 표 추출\n",
    "3. <br>\n",
    "    1. 텍스트를 문장 또는 청크 단위로 분할<br>\n",
    "    2. 맥락 유지를 위한 청크 중복<br>\n",
    "    3. 불필요한 정보(해더, 푸터) 삭제<br>\n",
    "4. <br>\n",
    "    1. 표 처리. 별도 형식으로 저장(csv, json)<br>\n",
    "    2. 표 처리. 표와 문장을 결합하여 청크로 저장<br>\n",
    "5. 최종 청크 생성 : json 형태로 저장"
   ]
  },
  {
   "cell_type": "code",
   "execution_count": 3,
   "metadata": {},
   "outputs": [],
   "source": [
    "import os\n",
    "import json\n",
    "import re\n",
    "\n",
    "import numpy as np\n",
    "import pandas as pd\n",
    "from transformers import GPT2Tokenizer\n",
    "from PyPDF2 import PdfReader\n",
    "import pdfplumber"
   ]
  },
  {
   "cell_type": "code",
   "execution_count": 5,
   "metadata": {},
   "outputs": [
    {
     "data": {
      "text/plain": [
       "['61105-60-01-PP-501002_UPDATED PMS FOR PLANT AREA_241220_2_우림.pdf',\n",
       " 'SGC-3100-LEZ-002 PIPING MATERIAL SPECIFICATION_Rev.B_수정중_이테크.pdf']"
      ]
     },
     "execution_count": 5,
     "metadata": {},
     "output_type": "execute_result"
    }
   ],
   "source": [
    "pdf_folder_path = os.path.join(os.getcwd(), 'pdf')\n",
    "pdf_files = os.listdir(pdf_folder_path)\n",
    "pdf_files"
   ]
  },
  {
   "cell_type": "code",
   "execution_count": 13,
   "metadata": {},
   "outputs": [],
   "source": [
    "def get_pdf_text(pdf_path):\n",
    "    with pdfplumber.open(pdf_path) as pdf:\n",
    "        text = ''\n",
    "        for page in pdf.pages:\n",
    "            text += page.extract_text()\n",
    "    return text"
   ]
  },
  {
   "cell_type": "code",
   "execution_count": 29,
   "metadata": {},
   "outputs": [],
   "source": [
    "def get_df_from_nested_list(nested_list, header_row=0, data_row=1):\n",
    "    headers = nested_list[header_row]\n",
    "    rows = nested_list[data_row:]\n",
    "    df = pd.DataFrame(rows, columns=headers)\n",
    "    return df"
   ]
  },
  {
   "cell_type": "code",
   "execution_count": 16,
   "metadata": {},
   "outputs": [],
   "source": [
    "def get_pdf_table(pdf_path) :\n",
    "    with pdfplumber.open(pdf_path) as pdf:\n",
    "        tables = []\n",
    "        for page in pdf.pages:\n",
    "            tables += page.extract_tables()\n",
    "    return tables"
   ]
  },
  {
   "cell_type": "code",
   "execution_count": 22,
   "metadata": {},
   "outputs": [],
   "source": [
    "# 이태크로 테스트\n",
    "pdf_path = pdf_files[1]"
   ]
  },
  {
   "cell_type": "code",
   "execution_count": 23,
   "metadata": {},
   "outputs": [],
   "source": [
    "# 1. 텍스트 추출\n",
    "pdf_text = get_pdf_text(os.path.join(pdf_folder_path, pdf_path))"
   ]
  },
  {
   "cell_type": "code",
   "execution_count": 24,
   "metadata": {},
   "outputs": [],
   "source": [
    "# 2. 테이블 추출\n",
    "pdf_tables = get_pdf_table(os.path.join(pdf_folder_path, pdf_path))"
   ]
  },
  {
   "cell_type": "code",
   "execution_count": 32,
   "metadata": {},
   "outputs": [],
   "source": [
    "# 2.1 테이블을 데이터프레임으로 변환\n",
    "pdf_dfs = []\n",
    "for i in range(len(pdf_tables)):\n",
    "    try:\n",
    "        df = get_df_from_nested_list(pdf_tables[i])\n",
    "        pdf_dfs.append(df)\n",
    "    except:\n",
    "        print('테이블 추출 실패', i)"
   ]
  },
  {
   "cell_type": "code",
   "execution_count": 41,
   "metadata": {},
   "outputs": [
    {
     "name": "stdout",
     "output_type": "stream",
     "text": [
      "97\n"
     ]
    }
   ],
   "source": [
    "print(len(pdf_dfs))"
   ]
  },
  {
   "cell_type": "code",
   "execution_count": 40,
   "metadata": {},
   "outputs": [],
   "source": [
    "# 3. 텍스트 전처리"
   ]
  }
 ],
 "metadata": {
  "kernelspec": {
   "display_name": "Python (hello-pms)",
   "language": "python",
   "name": "hello-pms"
  },
  "language_info": {
   "codemirror_mode": {
    "name": "ipython",
    "version": 3
   },
   "file_extension": ".py",
   "mimetype": "text/x-python",
   "name": "python",
   "nbconvert_exporter": "python",
   "pygments_lexer": "ipython3",
   "version": "3.13.1"
  }
 },
 "nbformat": 4,
 "nbformat_minor": 2
}
